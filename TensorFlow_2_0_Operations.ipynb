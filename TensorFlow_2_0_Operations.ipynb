{
  "nbformat": 4,
  "nbformat_minor": 0,
  "metadata": {
    "colab": {
      "provenance": [],
      "authorship_tag": "ABX9TyOGWeVpIdpCy8fN/Ip+b0b5",
      "include_colab_link": true
    },
    "kernelspec": {
      "name": "python3",
      "display_name": "Python 3"
    },
    "language_info": {
      "name": "python"
    }
  },
  "cells": [
    {
      "cell_type": "markdown",
      "metadata": {
        "id": "view-in-github",
        "colab_type": "text"
      },
      "source": [
        "<a href=\"https://colab.research.google.com/github/intimanjunath/deep-learning-tensor-Operations/blob/main/TensorFlow_2_0_Operations.ipynb\" target=\"_parent\"><img src=\"https://colab.research.google.com/assets/colab-badge.svg\" alt=\"Open In Colab\"/></a>"
      ]
    },
    {
      "cell_type": "code",
      "execution_count": 2,
      "metadata": {
        "id": "j0TfohA6feRZ"
      },
      "outputs": [],
      "source": [
        "# TensorFlow 2.0: Tensor Operations Practice\n",
        "import tensorflow as tf\n",
        "import numpy as np\n",
        "import matplotlib.pyplot as plt\n",
        "\n",
        "# Set seeds for reproducibility\n",
        "tf.random.set_seed(123)\n",
        "np.random.seed(123)"
      ]
    },
    {
      "cell_type": "code",
      "source": [
        "#Creating Basic Tensor\n",
        "# Define a scalar, vector, matrix, and a 3D tensor with random values\n",
        "tf_scalar = tf.constant(9, dtype=tf.int32)\n",
        "tf_vector = tf.constant([0.2, 1.0, 1.8], dtype=tf.float32)\n",
        "tf_matrix = tf.constant([[2.5, 3.5], [4.5, 5.5]], dtype=tf.float64)\n",
        "tf_tensor3d = tf.random.uniform((3, 4, 5), minval=0, maxval=1, dtype=tf.float32)"
      ],
      "metadata": {
        "id": "UoBHYYKsAxhe"
      },
      "execution_count": 3,
      "outputs": []
    },
    {
      "cell_type": "code",
      "source": [
        "# Display properties of the 3D tensor\n",
        "print(\"TensorFlow 3D Tensor:\")\n",
        "print(\"Shape:\", tf_tensor3d.shape)\n",
        "print(\"Data Type:\", tf_tensor3d.dtype)\n",
        "print(\"Number of Dimensions:\", tf_tensor3d.ndim)"
      ],
      "metadata": {
        "colab": {
          "base_uri": "https://localhost:8080/"
        },
        "id": "SQwPiX9XAui5",
        "outputId": "d72e8f91-9402-42cb-8666-0bfce0dc6e72"
      },
      "execution_count": 4,
      "outputs": [
        {
          "output_type": "stream",
          "name": "stdout",
          "text": [
            "TensorFlow 3D Tensor:\n",
            "Shape: (3, 4, 5)\n",
            "Data Type: <dtype: 'float32'>\n",
            "Number of Dimensions: 3\n"
          ]
        }
      ]
    },
    {
      "cell_type": "code",
      "source": [
        "# Casting Tensor Types\n",
        "# Cast the vector from float32 to float64\n",
        "tf_vector_cast = tf.cast(tf_vector, dtype=tf.float64)\n",
        "print(\"\\nCasted tf_vector dtype:\", tf_vector_cast.dtype)\n",
        "\n",
        "#Visualizing Tensors\n",
        "# Visualize a random 10x10 image tensor\n",
        "plt.figure(figsize=(4, 4))\n",
        "random_image = tf.random.uniform((10, 10), minval=0, maxval=1)\n",
        "plt.imshow(random_image.numpy(), cmap='viridis')\n",
        "plt.title(\"Random Tensor Visualization\")\n",
        "plt.axis('off')\n",
        "plt.show()\n"
      ],
      "metadata": {
        "colab": {
          "base_uri": "https://localhost:8080/",
          "height": 402
        },
        "id": "rlQb82BTAsYa",
        "outputId": "21815e2a-08bd-4d43-94f2-d18b5ea64402"
      },
      "execution_count": 5,
      "outputs": [
        {
          "output_type": "stream",
          "name": "stdout",
          "text": [
            "\n",
            "Casted tf_vector dtype: <dtype: 'float64'>\n"
          ]
        },
        {
          "output_type": "display_data",
          "data": {
            "text/plain": [
              "<Figure size 400x400 with 1 Axes>"
            ],
            "image/png": "[encoded data removed]"
          },
          "metadata": {}
        }
      ]
    },
    {
      "cell_type": "code",
      "source": [
        "# Matrix Multiplication Visualization\n",
        "# Create two 5x5 random matrices and multiply them\n",
        "A_tf = tf.random.uniform((5, 5), minval=0, maxval=1, dtype=tf.float32)\n",
        "B_tf = tf.random.uniform((5, 5), minval=0, maxval=1, dtype=tf.float32)\n",
        "prod_tf = tf.matmul(A_tf, B_tf)\n",
        "\n",
        "fig, axs = plt.subplots(1, 3, figsize=(12, 4))\n",
        "axs[0].imshow(A_tf.numpy(), cmap='Blues')\n",
        "axs[0].set_title(\"Matrix A\")\n",
        "axs[0].axis('off')\n",
        "axs[1].imshow(B_tf.numpy(), cmap='Greens')\n",
        "axs[1].set_title(\"Matrix B\")\n",
        "axs[1].axis('off')\n",
        "axs[2].imshow(prod_tf.numpy(), cmap='Purples')\n",
        "axs[2].set_title(\"A x B\")\n",
        "axs[2].axis('off')\n",
        "plt.show()"
      ],
      "metadata": {
        "colab": {
          "base_uri": "https://localhost:8080/",
          "height": 332
        },
        "id": "NqcGW5dzAqIa",
        "outputId": "87c09973-9e22-495d-aca9-0ea91d16d54c"
      },
      "execution_count": 6,
      "outputs": [
        {
          "output_type": "display_data",
          "data": {
            "text/plain": [
              "<Figure size 1200x400 with 3 Axes>"
            ],
            "image/png": "[encoded data removed]"
          },
          "metadata": {}
        }
      ]
    },
    {
      "cell_type": "code",
      "source": [
        "#Basic Arithmetic Operations\n",
        "tf_add = tf_vector + 5\n",
        "tf_sub = tf_vector - 1\n",
        "tf_mul = tf_vector * 3\n",
        "tf_div = tf_vector / 2\n",
        "\n",
        "print(\"\\nTensorFlow Arithmetic Operations:\")\n",
        "print(\"Addition:\", tf_add.numpy())\n",
        "print(\"Subtraction:\", tf_sub.numpy())\n",
        "print(\"Multiplication:\", tf_mul.numpy())\n",
        "print(\"Division:\", tf_div.numpy())"
      ],
      "metadata": {
        "colab": {
          "base_uri": "https://localhost:8080/"
        },
        "id": "Zy-p-yT2AouA",
        "outputId": "aa31c436-57fa-43d1-e51c-f8be060735c3"
      },
      "execution_count": 7,
      "outputs": [
        {
          "output_type": "stream",
          "name": "stdout",
          "text": [
            "\n",
            "TensorFlow Arithmetic Operations:\n",
            "Addition: [5.2 6.  6.8]\n",
            "Subtraction: [-0.8         0.          0.79999995]\n",
            "Multiplication: [0.6       3.        5.3999996]\n",
            "Division: [0.1 0.5 0.9]\n"
          ]
        }
      ]
    },
    {
      "cell_type": "code",
      "source": [
        "# Einsum Operations\n",
        "# Define two matrices for demonstration\n",
        "mat_A = tf.constant([[1, 2], [3, 4]], dtype=tf.float32)\n",
        "mat_B = tf.constant([[5, 6], [7, 8]], dtype=tf.float32)\n",
        "\n",
        "# Use einsum for various operations\n",
        "einsum_product = tf.einsum('ik,kj->ij', mat_A, mat_B)\n",
        "einsum_total = tf.einsum('ij->', mat_A)\n",
        "einsum_elementwise = tf.einsum('ij,ij->ij', mat_A, mat_B)\n",
        "einsum_outer = tf.einsum('i,j->ij', tf_vector, tf_vector)\n",
        "\n",
        "print(\"\\nTensorFlow Einsum Operations:\")\n",
        "print(\"Matrix Product (einsum):\\n\", einsum_product.numpy())\n",
        "print(\"Sum of all elements in mat_A:\", einsum_total.numpy())\n",
        "print(\"Element-wise multiplication:\\n\", einsum_elementwise.numpy())\n",
        "print(\"Outer product of tf_vector:\\n\", einsum_outer.numpy())\n",
        "\n",
        "# Visualize the einsum matrix multiplication result\n",
        "plt.figure(figsize=(5, 5))\n",
        "plt.imshow(einsum_product.numpy(), cmap='magma')\n",
        "plt.title(\"Einsum Matrix Multiplication\")\n",
        "plt.axis('off')\n",
        "plt.show()"
      ],
      "metadata": {
        "colab": {
          "base_uri": "https://localhost:8080/",
          "height": 670
        },
        "id": "lSf_8fHJAc-J",
        "outputId": "042735be-d9c8-42f4-aea5-d5b2c618f088"
      },
      "execution_count": 8,
      "outputs": [
        {
          "output_type": "stream",
          "name": "stdout",
          "text": [
            "\n",
            "TensorFlow Einsum Operations:\n",
            "Matrix Product (einsum):\n",
            " [[19. 22.]\n",
            " [43. 50.]]\n",
            "Sum of all elements in mat_A: 10.0\n",
            "Element-wise multiplication:\n",
            " [[ 5. 12.]\n",
            " [21. 32.]]\n",
            "Outer product of tf_vector:\n",
            " [[0.04       0.2        0.35999998]\n",
            " [0.2        1.         1.8       ]\n",
            " [0.35999998 1.8        3.2399998 ]]\n"
          ]
        },
        {
          "output_type": "display_data",
          "data": {
            "text/plain": [
              "<Figure size 500x500 with 1 Axes>"
            ],
            "image/png": "[encoded data removed]"
          },
          "metadata": {}
        }
      ]
    },
    {
      "cell_type": "code",
      "source": [
        "# Advanced Tensor Manipulations\n",
        "# Reshape the 3D tensor to a 2D tensor\n",
        "reshaped_tf = tf.reshape(tf_tensor3d, (-1, tf_tensor3d.shape[-1]))\n",
        "# Slice: take the first 2 entries along the second dimension\n",
        "sliced_tf = tf_tensor3d[:, :2, :]\n",
        "# Concatenate and stack operations using tf_matrix\n",
        "concat_tf = tf.concat([tf_matrix, tf_matrix], axis=0)\n",
        "stack_tf = tf.stack([tf_matrix, tf_matrix], axis=0)\n",
        "\n",
        "# Identity and diagonal matrices; trace, norm, and rank\n",
        "identity_tf = tf.eye(3)\n",
        "diag_tf = tf.linalg.diag([10, 20, 30])\n",
        "trace_tf = tf.linalg.trace(tf_matrix)\n",
        "norm_tf = tf.norm(tf_matrix)\n",
        "rank_tf = tf.rank(tf_matrix)"
      ],
      "metadata": {
        "id": "8ZaQVVP7AdB-"
      },
      "execution_count": 9,
      "outputs": []
    },
    {
      "cell_type": "code",
      "source": [
        "# Eigen decomposition on a symmetric matrix\n",
        "sym_matrix_tf = tf.constant([[6.0, 2.0], [2.0, 3.0]])\n",
        "eigvals_tf, eigvecs_tf = tf.linalg.eigh(sym_matrix_tf)\n",
        "\n",
        "print(\"\\nTensorFlow Advanced Operations:\")\n",
        "print(\"Reshaped Tensor Shape:\", reshaped_tf.shape)\n",
        "print(\"Sliced Tensor Shape:\", sliced_tf.shape)\n",
        "print(\"Concatenated Matrix Shape:\", concat_tf.shape)\n",
        "print(\"Stacked Tensor Shape:\", stack_tf.shape)\n",
        "print(\"Identity Matrix:\\n\", identity_tf.numpy())\n",
        "print(\"Diagonal Matrix:\\n\", diag_tf.numpy())\n",
        "print(\"Trace of tf_matrix:\", trace_tf.numpy())\n",
        "print(\"Norm of tf_matrix:\", norm_tf.numpy())\n",
        "print(\"Rank of tf_matrix:\", rank_tf.numpy())\n",
        "print(\"Eigenvalues:\", eigvals_tf.numpy())\n",
        "print(\"Eigenvectors:\\n\", eigvecs_tf.numpy())\n"
      ],
      "metadata": {
        "colab": {
          "base_uri": "https://localhost:8080/"
        },
        "id": "B839KXLbAdFn",
        "outputId": "57fa06af-e287-4ae4-a35b-73f06988755c"
      },
      "execution_count": 10,
      "outputs": [
        {
          "output_type": "stream",
          "name": "stdout",
          "text": [
            "\n",
            "TensorFlow Advanced Operations:\n",
            "Reshaped Tensor Shape: (12, 5)\n",
            "Sliced Tensor Shape: (3, 2, 5)\n",
            "Concatenated Matrix Shape: (4, 2)\n",
            "Stacked Tensor Shape: (2, 2, 2)\n",
            "Identity Matrix:\n",
            " [[1. 0. 0.]\n",
            " [0. 1. 0.]\n",
            " [0. 0. 1.]]\n",
            "Diagonal Matrix:\n",
            " [[10  0  0]\n",
            " [ 0 20  0]\n",
            " [ 0  0 30]]\n",
            "Trace of tf_matrix: 8.0\n",
            "Norm of tf_matrix: 8.306623862918075\n",
            "Rank of tf_matrix: 2\n",
            "Eigenvalues: [1.9999999 7.       ]\n",
            "Eigenvectors:\n",
            " [[-0.4472136  0.8944272]\n",
            " [ 0.8944272  0.4472136]]\n"
          ]
        }
      ]
    },
    {
      "cell_type": "code",
      "source": [
        "#Broadcasting Example\n",
        "broadcast_A = tf.constant([1, 2, 3], dtype=tf.float32)\n",
        "broadcast_B = tf.constant([[1], [2], [3]], dtype=tf.float32)\n",
        "broadcast_result_tf = broadcast_A + broadcast_B\n",
        "\n",
        "print(\"\\nTensorFlow Broadcasting Result:\")\n",
        "print(broadcast_result_tf.numpy())"
      ],
      "metadata": {
        "colab": {
          "base_uri": "https://localhost:8080/"
        },
        "id": "C9uK8qMRAdIw",
        "outputId": "9a874222-e0f5-45dc-de15-5a5711f18fff"
      },
      "execution_count": 11,
      "outputs": [
        {
          "output_type": "stream",
          "name": "stdout",
          "text": [
            "\n",
            "TensorFlow Broadcasting Result:\n",
            "[[2. 3. 4.]\n",
            " [3. 4. 5.]\n",
            " [4. 5. 6.]]\n"
          ]
        }
      ]
    },
    {
      "cell_type": "code",
      "source": [
        "plt.figure(figsize=(4, 4))\n",
        "plt.imshow(broadcast_result_tf.numpy(), cmap='coolwarm')\n",
        "plt.title(\"Broadcasting Visualization\")\n",
        "plt.axis('off')\n",
        "plt.colorbar()\n",
        "plt.show()"
      ],
      "metadata": {
        "colab": {
          "base_uri": "https://localhost:8080/",
          "height": 359
        },
        "id": "SFLklZ2EAdMD",
        "outputId": "e47d6653-19e3-4bd3-ea66-73ea4e7d8e8b"
      },
      "execution_count": 12,
      "outputs": [
        {
          "output_type": "display_data",
          "data": {
            "text/plain": [
              "<Figure size 400x400 with 2 Axes>"
            ],
            "image/png": "[encoded data removed]"
          },
          "metadata": {}
        }
      ]
    },
    {
      "cell_type": "code",
      "source": [
        "# Gradient Computation\n",
        "# Compute the gradient of a simple quadratic function\n",
        "x_tf = tf.Variable(4.0)\n",
        "with tf.GradientTape() as tape:\n",
        "    y_tf = x_tf**2 + 3 * x_tf + 7\n",
        "grad_tf = tape.gradient(y_tf, x_tf)\n",
        "print(\"\\nTensorFlow Gradient Computation:\")\n",
        "print(\"dy/dx at x=4:\", grad_tf.numpy())"
      ],
      "metadata": {
        "colab": {
          "base_uri": "https://localhost:8080/"
        },
        "id": "FjVUof7nfgUm",
        "outputId": "5d67b8eb-3c2e-432f-98a7-20d3cd6cce3d"
      },
      "execution_count": 13,
      "outputs": [
        {
          "output_type": "stream",
          "name": "stdout",
          "text": [
            "\n",
            "TensorFlow Gradient Computation:\n",
            "dy/dx at x=4: 11.0\n"
          ]
        }
      ]
    }
  ]
}
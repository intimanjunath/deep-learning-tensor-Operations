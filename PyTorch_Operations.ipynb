{
  "nbformat": 4,
  "nbformat_minor": 0,
  "metadata": {
    "colab": {
      "provenance": [],
      "authorship_tag": "ABX9TyPRhZ/Pwi1eQwkcibK47ldu",
      "include_colab_link": true
    },
    "kernelspec": {
      "name": "python3",
      "display_name": "Python 3"
    },
    "language_info": {
      "name": "python"
    }
  },
  "cells": [
    {
      "cell_type": "markdown",
      "metadata": {
        "id": "view-in-github",
        "colab_type": "text"
      },
      "source": [
        "<a href=\"https://colab.research.google.com/github/intimanjunath/deep-learning-tensor-Operations/blob/main/PyTorch_Operations.ipynb\" target=\"_parent\"><img src=\"https://colab.research.google.com/assets/colab-badge.svg\" alt=\"Open In Colab\"/></a>"
      ]
    },
    {
      "cell_type": "code",
      "execution_count": 2,
      "metadata": {
        "id": "68_AKRH-fqOt"
      },
      "outputs": [],
      "source": [
        "# PyTorch: Tensor Operations Practice\n",
        "import torch\n",
        "import numpy as np\n",
        "import matplotlib.pyplot as plt\n",
        "from einops import rearrange, reduce, repeat\n",
        "\n",
        "# Set seeds for reproducibility\n",
        "torch.manual_seed(123)\n",
        "np.random.seed(123)"
      ]
    },
    {
      "cell_type": "code",
      "source": [
        "#Creating Basic Tensors\n",
        "# Define a scalar, vector, matrix, and a 3D tensor using torch.rand\n",
        "pt_scalar = torch.tensor(9, dtype=torch.int32)\n",
        "pt_vector = torch.tensor([0.2, 1.0, 1.8], dtype=torch.float32)\n",
        "pt_matrix = torch.tensor([[2.5, 3.5], [4.5, 5.5]], dtype=torch.float64)\n",
        "pt_tensor3d = torch.rand(3, 4, 5)\n",
        "\n",
        "print(\"PyTorch 3D Tensor Properties:\")\n",
        "print(\"Shape:\", pt_tensor3d.shape)\n",
        "print(\"Data Type:\", pt_tensor3d.dtype)\n",
        "print(\"Number of Dimensions:\", pt_tensor3d.ndimension())\n",
        "\n",
        "# Casting Tensor Types\n",
        "# Convert the vector to float64\n",
        "pt_vector_cast = pt_vector.to(dtype=torch.float64)\n",
        "print(\"\\nCasted pt_vector dtype:\", pt_vector_cast.dtype)\n"
      ],
      "metadata": {
        "colab": {
          "base_uri": "https://localhost:8080/"
        },
        "id": "rJtWu75NBTHw",
        "outputId": "f9c51b7f-2c65-47a9-923a-6ed7b89d4b9f"
      },
      "execution_count": 3,
      "outputs": [
        {
          "output_type": "stream",
          "name": "stdout",
          "text": [
            "PyTorch 3D Tensor Properties:\n",
            "Shape: torch.Size([3, 4, 5])\n",
            "Data Type: torch.float32\n",
            "Number of Dimensions: 3\n",
            "\n",
            "Casted pt_vector dtype: torch.float64\n"
          ]
        }
      ]
    },
    {
      "cell_type": "code",
      "source": [
        "# Visualizing Tensors\n",
        "# Display the first 2D slice of the 3D tensor\n",
        "plt.figure(figsize=(4, 4))\n",
        "plt.imshow(pt_tensor3d[0].numpy(), cmap='viridis')\n",
        "plt.title(\"Random Tensor Slice Visualization\")\n",
        "plt.axis('off')\n",
        "plt.show()\n"
      ],
      "metadata": {
        "colab": {
          "base_uri": "https://localhost:8080/",
          "height": 307
        },
        "id": "Xp4RYwV0BRk_",
        "outputId": "9840faa0-5b10-4e64-a5f7-0227004d6630"
      },
      "execution_count": 4,
      "outputs": [
        {
          "output_type": "display_data",
          "data": {
            "text/plain": [
              "<Figure size 400x400 with 1 Axes>"
            ],
            "image/png": "[encoded data removed]"
          },
          "metadata": {}
        }
      ]
    },
    {
      "cell_type": "code",
      "source": [
        "# Matrix Multiplication Visualization\n",
        "# Create two random 5x5 matrices and multiply them\n",
        "A_pt = torch.rand(5, 5)\n",
        "B_pt = torch.rand(5, 5)\n",
        "prod_pt = torch.matmul(A_pt, B_pt)\n",
        "\n",
        "fig, axs = plt.subplots(1, 3, figsize=(12, 4))\n",
        "axs[0].imshow(A_pt.numpy(), cmap='Blues')\n",
        "axs[0].set_title(\"Matrix A\")\n",
        "axs[0].axis('off')\n",
        "axs[1].imshow(B_pt.numpy(), cmap='Greens')\n",
        "axs[1].set_title(\"Matrix B\")\n",
        "axs[1].axis('off')\n",
        "axs[2].imshow(prod_pt.numpy(), cmap='Purples')\n",
        "axs[2].set_title(\"A x B\")\n",
        "axs[2].axis('off')\n",
        "plt.show()"
      ],
      "metadata": {
        "colab": {
          "base_uri": "https://localhost:8080/",
          "height": 332
        },
        "id": "kw71sZ-NBQr0",
        "outputId": "1572fe77-3d79-42c0-b5a6-9329c626fd0f"
      },
      "execution_count": 5,
      "outputs": [
        {
          "output_type": "display_data",
          "data": {
            "text/plain": [
              "<Figure size 1200x400 with 3 Axes>"
            ],
            "image/png": "[encoded data removed]"
          },
          "metadata": {}
        }
      ]
    },
    {
      "cell_type": "code",
      "source": [
        "#Basic Arithmetic Operations\n",
        "pt_add = pt_vector + 5\n",
        "pt_sub = pt_vector - 1\n",
        "pt_mul = pt_vector * 3\n",
        "pt_div = pt_vector / 2\n",
        "\n",
        "print(\"\\nPyTorch Arithmetic Operations:\")\n",
        "print(\"Addition:\", pt_add.numpy())\n",
        "print(\"Subtraction:\", pt_sub.numpy())\n",
        "print(\"Multiplication:\", pt_mul.numpy())\n",
        "print(\"Division:\", pt_div.numpy())"
      ],
      "metadata": {
        "colab": {
          "base_uri": "https://localhost:8080/"
        },
        "id": "IWEG57CEBP0J",
        "outputId": "a48a2d17-05fa-4753-e08d-7e5d8965649b"
      },
      "execution_count": 6,
      "outputs": [
        {
          "output_type": "stream",
          "name": "stdout",
          "text": [
            "\n",
            "PyTorch Arithmetic Operations:\n",
            "Addition: [5.2 6.  6.8]\n",
            "Subtraction: [-0.8         0.          0.79999995]\n",
            "Multiplication: [0.6       3.        5.3999996]\n",
            "Division: [0.1 0.5 0.9]\n"
          ]
        }
      ]
    },
    {
      "cell_type": "code",
      "source": [
        "#Einsum Operations\n",
        "# Define two 2x2 matrices for einsum demonstrations\n",
        "mat_A_pt = torch.tensor([[1, 2], [3, 4]], dtype=torch.float32)\n",
        "mat_B_pt = torch.tensor([[5, 6], [7, 8]], dtype=torch.float32)\n",
        "\n",
        "einsum_product_pt = torch.einsum('ik,kj->ij', mat_A_pt, mat_B_pt)\n",
        "einsum_total_pt = torch.einsum('ij->', mat_A_pt)\n",
        "einsum_elementwise_pt = torch.einsum('ij,ij->ij', mat_A_pt, mat_B_pt)\n",
        "einsum_outer_pt = torch.einsum('i,j->ij', pt_vector, pt_vector)\n",
        "\n",
        "print(\"\\nPyTorch Einsum Operations:\")\n",
        "print(\"Matrix Product (einsum):\\n\", einsum_product_pt.numpy())\n",
        "print(\"Sum of all elements in mat_A_pt:\", einsum_total_pt.item())\n",
        "print(\"Element-wise multiplication:\\n\", einsum_elementwise_pt.numpy())\n",
        "print(\"Outer product of pt_vector:\\n\", einsum_outer_pt.numpy())"
      ],
      "metadata": {
        "colab": {
          "base_uri": "https://localhost:8080/"
        },
        "id": "_gBxrOiyBO1m",
        "outputId": "3d6b5b2b-a032-4a1d-e98c-4e90dd80d832"
      },
      "execution_count": 7,
      "outputs": [
        {
          "output_type": "stream",
          "name": "stdout",
          "text": [
            "\n",
            "PyTorch Einsum Operations:\n",
            "Matrix Product (einsum):\n",
            " [[19. 22.]\n",
            " [43. 50.]]\n",
            "Sum of all elements in mat_A_pt: 10.0\n",
            "Element-wise multiplication:\n",
            " [[ 5. 12.]\n",
            " [21. 32.]]\n",
            "Outer product of pt_vector:\n",
            " [[0.04       0.2        0.35999998]\n",
            " [0.2        1.         1.8       ]\n",
            " [0.35999998 1.8        3.2399998 ]]\n"
          ]
        }
      ]
    },
    {
      "cell_type": "code",
      "source": [
        "# Visualize the einsum matrix multiplication result\n",
        "plt.figure(figsize=(5, 5))\n",
        "plt.imshow(einsum_product_pt.numpy(), cmap='magma')\n",
        "plt.title(\"Einsum Matrix Multiplication\")\n",
        "plt.axis('off')\n",
        "plt.show()\n"
      ],
      "metadata": {
        "colab": {
          "base_uri": "https://localhost:8080/",
          "height": 444
        },
        "id": "gIdX4vNEBNrY",
        "outputId": "e0c23629-5387-4e93-ddce-92f0b0452ef9"
      },
      "execution_count": 8,
      "outputs": [
        {
          "output_type": "display_data",
          "data": {
            "text/plain": [
              "<Figure size 500x500 with 1 Axes>"
            ],
            "image/png": "[encoded data removed]"
          },
          "metadata": {}
        }
      ]
    },
    {
      "cell_type": "code",
      "source": [
        "# Using einops for Tensor Manipulations\n",
        "# Rearrange: move the first axis to the end\n",
        "rearranged_pt = rearrange(pt_tensor3d, 'b h w -> h w b')\n",
        "print(\"\\nRearranged Tensor Shape:\", rearranged_pt.shape)\n",
        "\n",
        "# Reduce: compute the mean across the last dimension\n",
        "reduced_pt = reduce(pt_tensor3d, 'b h w -> b h', 'mean')\n",
        "print(\"Reduced Tensor Shape:\", reduced_pt.shape)\n",
        "\n",
        "# Repeat: replicate pt_vector to form a 2D tensor with width 4\n",
        "repeated_pt = repeat(pt_vector, 'h -> h w', w=4)\n",
        "print(\"Repeated Tensor Shape:\", repeated_pt.shape)"
      ],
      "metadata": {
        "colab": {
          "base_uri": "https://localhost:8080/"
        },
        "id": "tx9XTNPDBMmH",
        "outputId": "a35ca36c-1130-436e-b729-ad1b53339499"
      },
      "execution_count": 9,
      "outputs": [
        {
          "output_type": "stream",
          "name": "stdout",
          "text": [
            "\n",
            "Rearranged Tensor Shape: torch.Size([4, 5, 3])\n",
            "Reduced Tensor Shape: torch.Size([3, 4])\n",
            "Repeated Tensor Shape: torch.Size([3, 4])\n"
          ]
        }
      ]
    },
    {
      "cell_type": "code",
      "source": [
        "# Advanced Tensor Manipulations\n",
        "# Reshape the 3D tensor to a 2D tensor\n",
        "reshaped_pt = pt_tensor3d.view(pt_tensor3d.size(0) * pt_tensor3d.size(1), pt_tensor3d.size(2))\n",
        "# Slice: take the first 2 elements along the second dimension\n",
        "sliced_pt = pt_tensor3d[:, :2, :]\n",
        "# Concatenate and stack using pt_matrix\n",
        "concat_pt = torch.cat([pt_matrix, pt_matrix], dim=0)\n",
        "stack_pt = torch.stack([pt_matrix, pt_matrix], dim=0)\n",
        "\n",
        "# Create an identity matrix and a diagonal matrix; compute trace, norm, and rank\n",
        "identity_pt = torch.eye(3)\n",
        "diag_pt = torch.diag(torch.tensor([10, 20, 30], dtype=torch.float64))\n",
        "trace_pt = torch.trace(pt_matrix)\n",
        "norm_pt = torch.norm(pt_matrix)\n",
        "rank_pt = len(pt_matrix.shape)"
      ],
      "metadata": {
        "id": "egrPHCyqBLck"
      },
      "execution_count": 10,
      "outputs": []
    },
    {
      "cell_type": "code",
      "source": [
        "# Eigen decomposition on a symmetric matrix\n",
        "sym_matrix_pt = torch.tensor([[6.0, 2.0], [2.0, 3.0]], dtype=torch.float32)\n",
        "eigvals_pt, eigvecs_pt = torch.linalg.eig(sym_matrix_pt)\n",
        "\n",
        "print(\"\\nPyTorch Advanced Operations:\")\n",
        "print(\"Reshaped Tensor Shape:\", reshaped_pt.shape)\n",
        "print(\"Sliced Tensor Shape:\", sliced_pt.shape)\n",
        "print(\"Concatenated Matrix Shape:\", concat_pt.shape)\n",
        "print(\"Stacked Matrix Shape:\", stack_pt.shape)\n",
        "print(\"Identity Matrix:\\n\", identity_pt.numpy())\n",
        "print(\"Diagonal Matrix:\\n\", diag_pt.numpy())\n",
        "print(\"Trace of pt_matrix:\", trace_pt.item())\n",
        "print(\"Norm of pt_matrix:\", norm_pt.item())\n",
        "print(\"Rank of pt_matrix:\", rank_pt)\n",
        "print(\"Eigenvalues (may be complex):\\n\", eigvals_pt)\n",
        "print(\"Eigenvectors:\\n\", eigvecs_pt)"
      ],
      "metadata": {
        "colab": {
          "base_uri": "https://localhost:8080/"
        },
        "id": "EhNucy2RfzuX",
        "outputId": "9c52ca80-45e7-430e-bcef-78866d9926e6"
      },
      "execution_count": 11,
      "outputs": [
        {
          "output_type": "stream",
          "name": "stdout",
          "text": [
            "\n",
            "PyTorch Advanced Operations:\n",
            "Reshaped Tensor Shape: torch.Size([12, 5])\n",
            "Sliced Tensor Shape: torch.Size([3, 2, 5])\n",
            "Concatenated Matrix Shape: torch.Size([4, 2])\n",
            "Stacked Matrix Shape: torch.Size([2, 2, 2])\n",
            "Identity Matrix:\n",
            " [[1. 0. 0.]\n",
            " [0. 1. 0.]\n",
            " [0. 0. 1.]]\n",
            "Diagonal Matrix:\n",
            " [[10.  0.  0.]\n",
            " [ 0. 20.  0.]\n",
            " [ 0.  0. 30.]]\n",
            "Trace of pt_matrix: 8.0\n",
            "Norm of pt_matrix: 8.306623862918075\n",
            "Rank of pt_matrix: 2\n",
            "Eigenvalues (may be complex):\n",
            " tensor([7.+0.j, 2.+0.j])\n",
            "Eigenvectors:\n",
            " tensor([[ 0.8944+0.j, -0.4472+0.j],\n",
            "        [ 0.4472+0.j,  0.8944+0.j]])\n"
          ]
        }
      ]
    },
    {
      "cell_type": "code",
      "source": [
        "# Broadcasting Example\n",
        "pt_A = torch.tensor([1, 2, 3], dtype=torch.float32)\n",
        "pt_B = torch.tensor([[1], [2], [3]], dtype=torch.float32)\n",
        "broadcast_result_pt = pt_A + pt_B\n",
        "\n",
        "print(\"\\nPyTorch Broadcasting Result:\")\n",
        "print(broadcast_result_pt.numpy())\n",
        "\n",
        "plt.figure(figsize=(4, 4))\n",
        "plt.imshow(broadcast_result_pt.numpy(), cmap='coolwarm')\n",
        "plt.title(\"Broadcasting Visualization\")\n",
        "plt.axis('off')\n",
        "plt.show()"
      ],
      "metadata": {
        "colab": {
          "base_uri": "https://localhost:8080/",
          "height": 454
        },
        "id": "La3JXV7vBH75",
        "outputId": "6a4d370d-ccbb-4690-895f-47202d45f662"
      },
      "execution_count": 12,
      "outputs": [
        {
          "output_type": "stream",
          "name": "stdout",
          "text": [
            "\n",
            "PyTorch Broadcasting Result:\n",
            "[[2. 3. 4.]\n",
            " [3. 4. 5.]\n",
            " [4. 5. 6.]]\n"
          ]
        },
        {
          "output_type": "display_data",
          "data": {
            "text/plain": [
              "<Figure size 400x400 with 1 Axes>"
            ],
            "image/png": "[encoded data removed]"
          },
          "metadata": {}
        }
      ]
    },
    {
      "cell_type": "code",
      "source": [
        "#Gradient Computation\n",
        "# Compute the gradient of a quadratic function in PyTorch\n",
        "x_pt = torch.tensor(4.0, requires_grad=True)\n",
        "y_pt = x_pt**2 + 3 * x_pt + 7\n",
        "y_pt.backward()\n",
        "print(\"\\nPyTorch Gradient Computation:\")\n",
        "print(\"dy/dx at x=4:\", x_pt.grad.item())"
      ],
      "metadata": {
        "colab": {
          "base_uri": "https://localhost:8080/"
        },
        "id": "TUMlJcdeBjH6",
        "outputId": "84d664cb-32bc-4536-827c-87775bfd6039"
      },
      "execution_count": 13,
      "outputs": [
        {
          "output_type": "stream",
          "name": "stdout",
          "text": [
            "\n",
            "PyTorch Gradient Computation:\n",
            "dy/dx at x=4: 11.0\n"
          ]
        }
      ]
    }
  ]
}